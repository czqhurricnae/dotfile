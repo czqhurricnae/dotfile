{
 "cells": [
  {
   "cell_type": "markdown",
   "metadata": {
    "ein.tags": "worksheet-0",
    "slideshow": {
     "slide_type": "-"
    }
   },
   "source": [
    "# string模块\n",
    "## capwords函数\n",
    "结果等同于先调用split(),然后调用join()"
   ]
  },
  {
   "cell_type": "code",
   "execution_count": 22,
   "metadata": {
    "autoscroll": false,
    "ein.tags": "worksheet-0",
    "slideshow": {
     "slide_type": "-"
    }
   },
   "outputs": [
    {
     "name": "stdout",
     "output_type": "stream",
     "text": [
      "The quick brown fox jumped over the lazy dog.\n",
      "The Quick Brown Fox Jumped Over The Lazy Dog.\n"
     ]
    }
   ],
   "source": [
    "import string\n",
    "\n",
    "s = \"The quick brown fox jumped over the lazy dog.\"\n",
    "\n",
    "print s\n",
    "print string.capwords(s)"
   ]
  },
  {
   "cell_type": "markdown",
   "metadata": {
    "ein.tags": "worksheet-0",
    "slideshow": {
     "slide_type": "-"
    }
   },
   "source": [
    "## maketrans函数\n",
    "maketrans()函数创建转换表, 可以结合translate()方法将一组字符修改为另一组字符, 这种做法比反复调用repalce()更为高效.\n",
    "在Python2中, maketrans函数必须有两个参数\n",
    "在Python3中, maketrans如果只有一个参数, 那么必须是一个字典, 字典键的长度只能为1"
   ]
  },
  {
   "cell_type": "code",
   "execution_count": 21,
   "metadata": {
    "autoscroll": false,
    "ein.tags": "worksheet-0",
    "slideshow": {
     "slide_type": "-"
    }
   },
   "outputs": [
    {
     "ename": "TypeError",
     "evalue": "maketrans() takes exactly 2 arguments (1 given)",
     "output_type": "error",
     "traceback": [
      "\u001b[0;31m---------------------------------------------------------------------------\u001b[0m",
      "\u001b[0;31mTypeError\u001b[0m                                 Traceback (most recent call last)",
      "\u001b[0;32m<ipython-input-21-cc932a8190dc>\u001b[0m in \u001b[0;36m<module>\u001b[0;34m()\u001b[0m\n\u001b[1;32m      1\u001b[0m \u001b[0;32mimport\u001b[0m \u001b[0mstring\u001b[0m\u001b[0;34m\u001b[0m\u001b[0m\n\u001b[1;32m      2\u001b[0m \u001b[0;34m\u001b[0m\u001b[0m\n\u001b[0;32m----> 3\u001b[0;31m \u001b[0mleet\u001b[0m \u001b[0;34m=\u001b[0m \u001b[0mstring\u001b[0m\u001b[0;34m.\u001b[0m\u001b[0mmaketrans\u001b[0m\u001b[0;34m(\u001b[0m\u001b[0;34m{\u001b[0m\u001b[0;34m\"e\"\u001b[0m\u001b[0;34m:\u001b[0m \u001b[0;34m\"1\"\u001b[0m\u001b[0;34m}\u001b[0m\u001b[0;34m)\u001b[0m\u001b[0;34m\u001b[0m\u001b[0m\n\u001b[0m\u001b[1;32m      4\u001b[0m \u001b[0ms\u001b[0m \u001b[0;34m=\u001b[0m \u001b[0;34m\"The quick brown fox jumped over the lazy dog.\"\u001b[0m\u001b[0;34m\u001b[0m\u001b[0m\n\u001b[1;32m      5\u001b[0m \u001b[0;32mprint\u001b[0m \u001b[0ms\u001b[0m\u001b[0;34m\u001b[0m\u001b[0m\n",
      "\u001b[0;31mTypeError\u001b[0m: maketrans() takes exactly 2 arguments (1 given)"
     ]
    }
   ],
   "source": [
    "import string\n",
    "\n",
    "leet = string.maketrans({\"e\": \"1\"})\n",
    "s = \"The quick brown fox jumped over the lazy dog.\"\n",
    "print s\n",
    "print s.translate(leet)"
   ]
  },
  {
   "cell_type": "code",
   "execution_count": 20,
   "metadata": {
    "autoscroll": false,
    "ein.tags": "worksheet-0",
    "slideshow": {
     "slide_type": "-"
    }
   },
   "outputs": [
    {
     "data": {
      "text/plain": [
       "'rd ths shrt txt'"
      ]
     },
     "execution_count": 20,
     "metadata": {},
     "output_type": "execute_result"
    }
   ],
   "source": [
    "\"read this short txt\".translate(None, \"aeiou\")"
   ]
  },
  {
   "cell_type": "code",
   "execution_count": 19,
   "metadata": {
    "autoscroll": false,
    "ein.tags": "worksheet-0",
    "slideshow": {
     "slide_type": "-"
    }
   },
   "outputs": [
    {
     "name": "stdout",
     "output_type": "stream",
     "text": [
      "The quick brown fox jumped over the lazy dog.\n",
      "Th3 qu1ck 620wn f0x jum93d 0v32 7h3 142y d06.\n"
     ]
    }
   ],
   "source": [
    "import string\n",
    "\n",
    "leet = string.maketrans(\"abegiloprstz\", \"463611092572\")\n",
    "s = \"The quick brown fox jumped over the lazy dog.\"\n",
    "print s\n",
    "print s.translate(leet)"
   ]
  },
  {
   "cell_type": "markdown",
   "metadata": {
    "ein.tags": "worksheet-0",
    "slideshow": {
     "slide_type": "-"
    }
   },
   "source": [
    "## Template类\n",
    "如果需要与两侧的文本区分, 使用大括号将变量扩起来${var}."
   ]
  },
  {
   "cell_type": "code",
   "execution_count": 18,
   "metadata": {
    "autoscroll": false,
    "ein.tags": "worksheet-0",
    "slideshow": {
     "slide_type": "-"
    }
   },
   "outputs": [
    {
     "name": "stdout",
     "output_type": "stream",
     "text": [
      "TEMPLATE:  \n",
      "Variable        : foo\n",
      "Escape          : $\n",
      "Variable in text: fooiable\n",
      "\n",
      "INTERPOLATION:  \n",
      "Variable        : foo\n",
      "Escape          : %\n",
      "Variable in text: fooiable\n",
      "\n"
     ]
    }
   ],
   "source": [
    "import string\n",
    "\n",
    "values = { \"var\": \"foo\" }\n",
    "\n",
    "t = string.Template(\"\"\"\n",
    "Variable        : $var\n",
    "Escape          : $$\n",
    "Variable in text: ${var}iable\n",
    "\"\"\")\n",
    "\n",
    "print \"TEMPLATE: \", t.substitute(values)\n",
    "\n",
    "s = \"\"\"\n",
    "Variable        : %(var)s\n",
    "Escape          : %%\n",
    "Variable in text: %(var)siable\n",
    "\"\"\"\n",
    "\n",
    "print \"INTERPOLATION: \", s % values"
   ]
  },
  {
   "cell_type": "markdown",
   "metadata": {
    "ein.tags": "worksheet-0",
    "slideshow": {
     "slide_type": "-"
    }
   },
   "source": [
    "使用safe_substitue方法, 避免未能提供模板所需全部参数时可能产生的异常"
   ]
  },
  {
   "cell_type": "code",
   "execution_count": 26,
   "metadata": {
    "autoscroll": false,
    "ein.tags": "worksheet-0",
    "slideshow": {
     "slide_type": "-"
    }
   },
   "outputs": [
    {
     "name": "stdout",
     "output_type": "stream",
     "text": [
      " substitue:  ERROR:  'missing'\n",
      "safe_substitute:  foo is here but $missing is not provided\n"
     ]
    }
   ],
   "source": [
    "import string\n",
    "\n",
    "values = { \"var\" : \"foo\" }\n",
    "\n",
    "t = string.Template(\"$var is here but $missing is not provided\")\n",
    "\n",
    "try:\n",
    "    print \"substitue: \", t.substitute(values)\n",
    "except KeyError, error:\n",
    "    print \"ERROR: \", error\n",
    "\n",
    "print \"safe_substitute: \", t.safe_substitute(values)"
   ]
  },
  {
   "cell_type": "markdown",
   "metadata": {
    "ein.tags": "worksheet-0",
    "slideshow": {
     "slide_type": "-"
    }
   },
   "source": [
    "修改Template类的属性delimiter和idpattern来调整在模板中查找变量名所使用的正则表达式."
   ]
  },
  {
   "cell_type": "code",
   "execution_count": 30,
   "metadata": {
    "autoscroll": false,
    "ein.tags": "worksheet-0",
    "slideshow": {
     "slide_type": "-"
    }
   },
   "outputs": [
    {
     "name": "stdout",
     "output_type": "stream",
     "text": [
      "Modified ID pattern: \n",
      "\n",
      "Delimiter : %\n",
      "Replaced  : replaced\n",
      "Ignored   : %notunderscore\n",
      "\n"
     ]
    }
   ],
   "source": [
    "import string\n",
    "\n",
    "template_txt = \"\"\"\n",
    "Delimiter : %%\n",
    "Replaced  : %with_underscore\n",
    "Ignored   : %notunderscore\n",
    "\"\"\"\n",
    "\n",
    "d = {\n",
    "\"with_underscore\" : \"replaced\",\n",
    "\"notunderscore\" : \"not replaced\"\n",
    "}\n",
    "\n",
    "class MyTemplate(string.Template):\n",
    "    delimiter = \"%\"\n",
    "    idpattern = \"[a-z]+_[a-z]+\"\n",
    "\n",
    "t = MyTemplate(template_txt)\n",
    "print \"Modified ID pattern: \"\n",
    "print t.safe_substitute(d)\n",
    "                \n"
   ]
  },
  {
   "cell_type": "markdown",
   "metadata": {
    "ein.tags": "worksheet-0",
    "slideshow": {
     "slide_type": "-"
    }
   },
   "source": [
    "进行更复杂的修改, 自定义全新的正则表达式, 所提供的模式必须包含4个命名组: 转义定界符, 命名变量, 用大括号括住的变量名, 不合法的定界符."
   ]
  },
  {
   "cell_type": "code",
   "execution_count": 56,
   "metadata": {
    "autoscroll": false,
    "ein.tags": "worksheet-0",
    "slideshow": {
     "slide_type": "-"
    }
   },
   "outputs": [
    {
     "name": "stdout",
     "output_type": "stream",
     "text": [
      "\n",
      "    \\$(?:\n",
      "      (?P<escaped>\\$) |   # Escape sequence of two delimiters\n",
      "      (?P<named>[_a-z][_a-z0-9]*)      |   # delimiter and a Python identifier\n",
      "      {(?P<braced>[_a-z][_a-z0-9]*)}   |   # delimiter and a braced identifier\n",
      "      (?P<invalid>)              # Other ill-formed delimiter exprs\n",
      "    )\n",
      "    \n",
      "[('', 'var', '', ''), ('$', '', '', ''), ('', '', 'var', '')]\n"
     ]
    }
   ],
   "source": [
    "import string\n",
    "import re\n",
    "\n",
    "t = string.Template(\"$var\")\n",
    "print t.pattern.pattern\n",
    "s = \"\"\"\n",
    "Variable        : $var\n",
    "Escape          : $$\n",
    "Variable in text: ${var}iable\n",
    "\"\"\"\n",
    "print t.pattern.findall(s)\n"
   ]
  },
  {
   "cell_type": "markdown",
   "metadata": {
    "ein.tags": "worksheet-0",
    "slideshow": {
     "slide_type": "-"
    }
   },
   "source": [
    "这个例子中使用`{{`作为转义符通过`(?P<escaped>\\{\\{)`来实现, 而使用`%%`来作为与其他字符隔离的符号通过`\\%\\%(?P<braced>[_a-z][_a-z-0-9]*)\\%\\%`来实现."
   ]
  },
  {
   "cell_type": "code",
   "execution_count": 72,
   "metadata": {
    "autoscroll": false,
    "ein.tags": "worksheet-0",
    "slideshow": {
     "slide_type": "-"
    }
   },
   "outputs": [
    {
     "name": "stdout",
     "output_type": "stream",
     "text": [
      "\n",
      "{{{{\n",
      "{{%%var%%iable\n",
      "\n",
      "MATCHES:  [('{{', '', '', ''), ('', '', 'var', '')]\n",
      "SUBSTITUTED:  \n",
      "{{\n",
      "replacementiable\n",
      "\n"
     ]
    }
   ],
   "source": [
    "import re\n",
    "import string\n",
    "\n",
    "class MyTemplate(string.Template):\n",
    "    delimiter = \"{{\"\n",
    "    pattern = r\"\"\"\n",
    "    \\{\\{(?:\n",
    "    (?P<escaped>\\{\\{) |\n",
    "    (?P<named>[_a-z][_a-z-0-9]*)\\}\\} |\n",
    "    \\%\\%(?P<braced>[_a-z][_a-z-0-9]*)\\%\\% |\n",
    "    (?P<invalid>)\n",
    "    )\n",
    "    \"\"\"\n",
    "\n",
    "t = MyTemplate(\"\"\"\n",
    "{{{{\n",
    "{{%%var%%iable\n",
    "\"\"\")\n",
    "\n",
    "print t.template\n",
    "print \"MATCHES: \", t.pattern.findall(t.template)\n",
    "print \"SUBSTITUTED: \", t.safe_substitute(var=\"replacement\")"
   ]
  },
  {
   "cell_type": "markdown",
   "metadata": {
    "ein.tags": "worksheet-0",
    "slideshow": {
     "slide_type": "-"
    }
   },
   "source": [
    "# textwrap-格式化文本段落"
   ]
  },
  {
   "cell_type": "markdown",
   "metadata": {
    "ein.tags": "worksheet-0",
    "slideshow": {
     "slide_type": "-"
    }
   },
   "source": [
    "## fill()函数\n",
    "fill()函数效果, 左对齐, 第一行保留了缩进,其余各行前面的空格嵌入到段落中, 在situation前就继续留有多余的缩进."
   ]
  },
  {
   "cell_type": "code",
   "execution_count": 81,
   "metadata": {
    "autoscroll": false,
    "ein.tags": "worksheet-0",
    "slideshow": {
     "slide_type": "-"
    }
   },
   "outputs": [
    {
     "name": "stdout",
     "output_type": "stream",
     "text": [
      "no dedent: \n",
      "\n",
      "     The testwrap module can be used to format\n",
      "text for output in     situations where pretty-\n",
      "printing is desired. It offers     programmatic\n",
      "functionality similar to the paragraph wrapping\n",
      "or filling features found in many text editors.\n"
     ]
    }
   ],
   "source": [
    "import textwrap\n",
    "\n",
    "sample_txt = \"\"\"\n",
    "    The testwrap module can be used to format text for output in\n",
    "    situations where pretty-printing is desired. It offers\n",
    "    programmatic functionality similar to the paragraph wrapping\n",
    "    or filling features found in many text editors.\n",
    "\"\"\"\n",
    "\n",
    "print \"no dedent: \\n\"\n",
    "print textwrap.fill(sample_txt, width = 50)"
   ]
  },
  {
   "cell_type": "markdown",
   "metadata": {
    "ein.tags": "worksheet-0",
    "slideshow": {
     "slide_type": "-"
    }
   },
   "source": [
    "## dedent()函数\n",
    "dedent()方法能够删除各行最前面都有的空白符."
   ]
  },
  {
   "cell_type": "code",
   "execution_count": 82,
   "metadata": {
    "autoscroll": false,
    "ein.tags": "worksheet-0",
    "slideshow": {
     "slide_type": "-"
    }
   },
   "outputs": [
    {
     "name": "stdout",
     "output_type": "stream",
     "text": [
      "dedent: \n",
      "\n",
      "\n",
      "The testwrap module can be used to format text for output in\n",
      "situations where pretty-printing is desired. It offers\n",
      "programmatic functionality similar to the paragraph wrapping\n",
      "or filling features found in many text editors.\n",
      "\n"
     ]
    }
   ],
   "source": [
    "import textwrap\n",
    "\n",
    "sample_txt = \"\"\"\n",
    "    The testwrap module can be used to format text for output in\n",
    "    situations where pretty-printing is desired. It offers\n",
    "    programmatic functionality similar to the paragraph wrapping\n",
    "    or filling features found in many text editors.\n",
    "\"\"\"\n",
    "\n",
    "dedent_text = textwrap.dedent(sample_txt)\n",
    "print \"dedent: \\n\"\n",
    "print dedent_text"
   ]
  },
  {
   "cell_type": "markdown",
   "metadata": {
    "ein.tags": "worksheet-0",
    "slideshow": {
     "slide_type": "-"
    }
   },
   "source": [
    "但是如果有某一行比其他行缩进多, 则会有一些空白符无法删除."
   ]
  },
  {
   "cell_type": "code",
   "execution_count": 83,
   "metadata": {
    "autoscroll": false,
    "ein.tags": "worksheet-0",
    "slideshow": {
     "slide_type": "-"
    }
   },
   "outputs": [
    {
     "name": "stdout",
     "output_type": "stream",
     "text": [
      "dedent: \n",
      "\n",
      "\n",
      "Line one.\n",
      "\n",
      "  Line two.\n",
      "Line three.\n",
      "\n"
     ]
    }
   ],
   "source": [
    "import textwrap\n",
    "\n",
    "sample_txt = \"\"\"\n",
    " Line one.\n",
    "\n",
    "   Line two.\n",
    " Line three.\n",
    "\"\"\"\n",
    "\n",
    "dedent_text = textwrap.dedent(sample_txt)\n",
    "print \"dedent: \\n\"\n",
    "print dedent_text\n"
   ]
  },
  {
   "cell_type": "markdown",
   "metadata": {
    "ein.tags": "worksheet-0",
    "slideshow": {
     "slide_type": "-"
    }
   },
   "source": [
    "## 结合fill和dedent"
   ]
  },
  {
   "cell_type": "code",
   "execution_count": 84,
   "metadata": {
    "autoscroll": false,
    "ein.tags": "worksheet-0",
    "slideshow": {
     "slide_type": "-"
    }
   },
   "outputs": [
    {
     "name": "stdout",
     "output_type": "stream",
     "text": [
      "45 columns: \n",
      "\n",
      "The testwrap module can be used to format\n",
      "text for output in situations where pretty-\n",
      "printing is desired. It offers programmatic\n",
      "functionality similar to the paragraph\n",
      "wrapping or filling features found in many\n",
      "text editors.\n",
      "\n",
      "60 columns: \n",
      "\n",
      "The testwrap module can be used to format text for output in\n",
      "situations where pretty-printing is desired. It offers\n",
      "programmatic functionality similar to the paragraph wrapping\n",
      "or filling features found in many text editors.\n",
      "\n"
     ]
    }
   ],
   "source": [
    "import textwrap\n",
    "\n",
    "sample_txt = \"\"\"\n",
    "    The testwrap module can be used to format text for output in\n",
    "    situations where pretty-printing is desired. It offers\n",
    "    programmatic functionality similar to the paragraph wrapping\n",
    "    or filling features found in many text editors.\n",
    "\"\"\"\n",
    "dedent_text = textwrap.dedent(sample_txt).strip()\n",
    "for width in [45, 60]:\n",
    "    print \"%d columns: \\n\" % width\n",
    "    print textwrap.fill(dedent_text, width = width)\n",
    "    print "
   ]
  },
  {
   "cell_type": "markdown",
   "metadata": {
    "ein.tags": "worksheet-0",
    "slideshow": {
     "slide_type": "-"
    }
   },
   "source": [
    "## 悬挂缩进, 单独控制第一行的缩进"
   ]
  },
  {
   "cell_type": "code",
   "execution_count": 88,
   "metadata": {
    "autoscroll": false,
    "ein.tags": "worksheet-0",
    "slideshow": {
     "slide_type": "-"
    }
   },
   "outputs": [
    {
     "name": "stdout",
     "output_type": "stream",
     "text": [
      "The testwrap module can be used to format text for\n",
      "    output in situations where pretty-printing is\n",
      "    desired. It offers programmatic functionality\n",
      "    similar to the paragraph wrapping or filling\n",
      "    features found in many text editors.\n"
     ]
    }
   ],
   "source": [
    "import textwrap\n",
    "\n",
    "sample_txt = \"\"\"\n",
    "    The testwrap module can be used to format text for output in\n",
    "    situations where pretty-printing is desired. It offers\n",
    "    programmatic functionality similar to the paragraph wrapping\n",
    "    or filling features found in many text editors.\n",
    "\"\"\"\n",
    "dedent_text = textwrap.dedent(sample_txt).strip()\n",
    "print textwrap.fill(dedent_text,\n",
    "                    initial_indent = \"\",\n",
    "                    subsequent_indent = \" \" * 4,\n",
    "                    width = 50\n",
    "                    )"
   ]
  },
  {
   "cell_type": "markdown",
   "metadata": {
    "ein.tags": "worksheet-0",
    "slideshow": {
     "slide_type": "-"
    }
   },
   "source": [
    "# re模块"
   ]
  },
  {
   "cell_type": "markdown",
   "metadata": {
    "ein.tags": "worksheet-0",
    "slideshow": {
     "slide_type": "-"
    }
   },
   "source": [
    "## search()函数\n",
    "如果找到这个模式则返回一个Match对象, 如果没有找到则返回None.\n",
    "Match对象包含有关匹配性质的信息, 如原输入字符串, 使用的正则表达式, 模式在原字符串中出现的位置."
   ]
  },
  {
   "cell_type": "code",
   "execution_count": 96,
   "metadata": {
    "autoscroll": false,
    "ein.tags": "worksheet-0",
    "slideshow": {
     "slide_type": "-"
    }
   },
   "outputs": [
    {
     "name": "stdout",
     "output_type": "stream",
     "text": [
      "<_sre.SRE_Match object at 0x1076344a8>\n",
      "Found 'this'\n",
      "in 'Does this text match the pattern?'\n",
      "from 5 to 9 ('this')\n"
     ]
    }
   ],
   "source": [
    "import re\n",
    "\n",
    "pattern = \"this\"\n",
    "text = \"Does this text match the pattern?\"\n",
    " \n",
    "match = re.search(pattern, text)\n",
    "print match\n",
    "\n",
    "s = match.start()\n",
    "e = match.end()\n",
    "\n",
    "print \"Found '%s'\\nin '%s'\\nfrom %d to %d ('%s')\" % \\\n",
    "      (match.re.pattern, match.string, s, e, text[s: e])"
   ]
  },
  {
   "cell_type": "markdown",
   "metadata": {
    "ein.tags": "worksheet-0",
    "slideshow": {
     "slide_type": "-"
    }
   },
   "source": [
    "## 编译表达式\n",
    "模块级函数会维护已编译表达式的一个缓存, 不过, 这个缓存的大小是有限的, 直接使用已编译表达式可以避免查找开销, 使用已编译表达式的另一个好处是, 通过加载模块是预编译所有表达式, 可以把编译工作转到应用开始时, 而不是当程序响应一个用户动作是才进行."
   ]
  },
  {
   "cell_type": "code",
   "execution_count": 97,
   "metadata": {
    "autoscroll": false,
    "ein.tags": "worksheet-0",
    "slideshow": {
     "slide_type": "-"
    }
   },
   "outputs": [
    {
     "name": "stdout",
     "output_type": "stream",
     "text": [
      "Text: 'Dose this text match the pattern?'\n",
      "\n",
      "Seeking 'this' ->\n",
      "Mathch!\n",
      "Seeking 'that' ->\n",
      "No match!\n"
     ]
    }
   ],
   "source": [
    "import re\n",
    "\n",
    "regexes = [re.compile(p) for p in [\"this\", \"that\"]]\n",
    "text = \"Dose this text match the pattern?\"\n",
    "\n",
    "print \"Text: %r\\n\" % text\n",
    "\n",
    "for regex in regexes:\n",
    "    print \"Seeking '%s' ->\" % regex.pattern\n",
    "\n",
    "    if regex.search(text):\n",
    "        print \"Mathch!\"\n",
    "    else:\n",
    "        print \"No match!\""
   ]
  },
  {
   "cell_type": "markdown",
   "metadata": {
    "ein.tags": "worksheet-0",
    "slideshow": {
     "slide_type": "-"
    }
   },
   "source": [
    "## 多重匹配"
   ]
  },
  {
   "cell_type": "markdown",
   "metadata": {
    "ein.tags": "worksheet-0",
    "slideshow": {
     "slide_type": "-"
    }
   },
   "source": [
    "### findall()函数返回输入中与模式匹配而不重叠的所有子串, 为字符串格式."
   ]
  },
  {
   "cell_type": "code",
   "execution_count": 99,
   "metadata": {
    "autoscroll": false,
    "ein.tags": "worksheet-0",
    "slideshow": {
     "slide_type": "-"
    }
   },
   "outputs": [
    {
     "name": "stdout",
     "output_type": "stream",
     "text": [
      "Found: ab\n",
      "<type 'str'>\n",
      "Found: ab\n",
      "<type 'str'>\n"
     ]
    }
   ],
   "source": [
    "import re\n",
    "\n",
    "text = \"abbaaabbbbaaaaa\"\n",
    "\n",
    "pattern = \"ab\"\n",
    "\n",
    "for match in re.findall(pattern, text):\n",
    "    print \"Found: %s\" % match\n",
    "    print type(match)"
   ]
  },
  {
   "cell_type": "markdown",
   "metadata": {
    "ein.tags": "worksheet-0",
    "slideshow": {
     "slide_type": "-"
    }
   },
   "source": [
    "### finditer()函数返回一个迭代器, 里面是Match实例, 而不是像findall()函数返回字符串."
   ]
  },
  {
   "cell_type": "code",
   "execution_count": 101,
   "metadata": {
    "autoscroll": false,
    "ein.tags": "worksheet-0",
    "slideshow": {
     "slide_type": "-"
    }
   },
   "outputs": [
    {
     "name": "stdout",
     "output_type": "stream",
     "text": [
      "Found: ab at 0: 2\n",
      "<type '_sre.SRE_Match'>\n",
      "Found: ab at 5: 7\n",
      "<type '_sre.SRE_Match'>\n"
     ]
    }
   ],
   "source": [
    "import re\n",
    "\n",
    "text = \"abbaaabbbbaaaaa\"\n",
    "\n",
    "pattern = \"ab\"\n",
    "\n",
    "for match in re.finditer(pattern, text):\n",
    "    s = match.start()\n",
    "    e = match.end()\n",
    "    print \"Found: %s at %d: %d\" % (text[s:e], s, e) \n",
    "    print type(match)\n"
   ]
  },
  {
   "cell_type": "markdown",
   "metadata": {
    "ein.tags": "worksheet-0",
    "slideshow": {
     "slide_type": "-"
    }
   },
   "source": [
    "## 模式语法"
   ]
  },
  {
   "cell_type": "code",
   "execution_count": 95,
   "metadata": {
    "autoscroll": false,
    "ein.tags": "worksheet-0",
    "slideshow": {
     "slide_type": "-"
    }
   },
   "outputs": [
    {
     "name": "stdout",
     "output_type": "stream",
     "text": [
      "pattern 'ab' ('a' followed by 'b')\n",
      "\n",
      "  'abbaaabbbbaaaaa'\n",
      "  'ab'\n",
      "  .....'ab'\n",
      "\n"
     ]
    }
   ],
   "source": [
    "import re\n",
    "\n",
    "def test_patterns(text, patterns = []):\n",
    "    \"\"\"Given source text and a list of patterns, look for\n",
    "    matches for each pattern within the text and print\n",
    "    them to stdout.\n",
    "    \"\"\"\n",
    "    # Look for each pattern in the text and print the results\n",
    "    for pattern, desc in patterns:\n",
    "        print \"pattern %r (%s)\\n\" % (pattern, desc)\n",
    "        print \"  %r\" % text\n",
    "        for match in re.finditer(pattern, text):\n",
    "            s = match.start()\n",
    "            e = match.end()\n",
    "            substr = text[s:e]\n",
    "            n_backslashed = text[:s].count(\"\\\\\")\n",
    "            prefix = \".\" * (s + n_backslashed)\n",
    "            print \"  %s%r\" % (prefix, substr)\n",
    "        print\n",
    "    return\n",
    "\n",
    "if __name__ == \"__main__\":\n",
    "    test_patterns(\"abbaaabbbbaaaaa\",\n",
    "                 [(\"ab\", \"'a' followed by 'b'\"),\n",
    "                 ])"
   ]
  },
  {
   "cell_type": "markdown",
   "metadata": {
    "ein.tags": "worksheet-0",
    "slideshow": {
     "slide_type": "-"
    }
   },
   "source": [
    "*: 0次或多次\n",
    "+: 1次或多次\n",
    "?: 0次或多次\n",
    "{m}: m次\n",
    "{m,n}: 最少m次,最多n次, 注意m与n之间不能出现空格, 否则会导致结果不正确"
   ]
  },
  {
   "cell_type": "code",
   "execution_count": 94,
   "metadata": {
    "autoscroll": false,
    "ein.tags": "worksheet-0",
    "slideshow": {
     "slide_type": "-"
    }
   },
   "outputs": [
    {
     "name": "stdout",
     "output_type": "stream",
     "text": [
      "pattern 'ab*' ('a' followed by zero or more 'b')\n",
      "\n",
      "  'abbaabbba'\n",
      "  'abb'\n",
      "  ...'a'\n",
      "  ....'abbb'\n",
      "  ........'a'\n",
      "\n",
      "pattern 'ab+' ('a' followed by one or more 'b')\n",
      "\n",
      "  'abbaabbba'\n",
      "  'abb'\n",
      "  ....'abbb'\n",
      "\n",
      "pattern 'ab?' ('a' followed by zero or one 'b')\n",
      "\n",
      "  'abbaabbba'\n",
      "  'ab'\n",
      "  ...'a'\n",
      "  ....'ab'\n",
      "  ........'a'\n",
      "\n",
      "pattern 'ab{3}' ('a' followed by three 'b')\n",
      "\n",
      "  'abbaabbba'\n",
      "  ....'abbb'\n",
      "\n",
      "pattern 'ab{2,3}' ('a' followed by two to three 'b')\n",
      "\n",
      "  'abbaabbba'\n",
      "  'abb'\n",
      "  ....'abbb'\n",
      "\n"
     ]
    }
   ],
   "source": [
    "import re\n",
    "\n",
    "def test_patterns(text, patterns = []):\n",
    "    \"\"\"Given source text and a list of patterns, look for\n",
    "    matches for each pattern within the text and print\n",
    "    them to stdout.\n",
    "    \"\"\"\n",
    "    # Look for each pattern in the text and print the results\n",
    "    for pattern, desc in patterns:\n",
    "        print \"pattern %r (%s)\\n\" % (pattern, desc)\n",
    "        print \"  %r\" % text\n",
    "        for match in re.finditer(pattern, text):\n",
    "            s = match.start()\n",
    "            e = match.end()\n",
    "            substr = text[s:e]\n",
    "            n_backslashed = text[:s].count(\"\\\\\")\n",
    "            prefix = \".\" * (s + n_backslashed)\n",
    "            print \"  %s%r\" % (prefix, substr)\n",
    "        print\n",
    "    return\n",
    "\n",
    "if __name__ == \"__main__\":\n",
    "    test_patterns(\"abbaabbba\",\n",
    "                 [(\"ab*\", \"'a' followed by zero or more 'b'\"),\n",
    "                  (\"ab+\", \"'a' followed by one or more 'b'\"),\n",
    "                  (\"ab?\", \"'a' followed by zero or one 'b'\"),\n",
    "                  (\"ab{3}\", \"'a' followed by three 'b'\"),\n",
    "                  (\"ab{2,3}\", \"'a' followed by two to three 'b'\"),\n",
    "                 ])\n"
   ]
  },
  {
   "cell_type": "markdown",
   "metadata": {
    "ein.tags": "worksheet-0",
    "slideshow": {
     "slide_type": "-"
    }
   },
   "source": [
    "## 关闭贪婪模式, 在重复指令后面加上`?`可以关闭贪婪模式\n",
    "对于允许b出现0次的模式, 如果关闭贪婪模式, 意味着匹配的子串不包含任何b字符."
   ]
  },
  {
   "cell_type": "code",
   "execution_count": 92,
   "metadata": {
    "autoscroll": false,
    "ein.tags": "worksheet-0",
    "slideshow": {
     "slide_type": "-"
    }
   },
   "outputs": [
    {
     "name": "stdout",
     "output_type": "stream",
     "text": [
      "pattern 'ab*?' ('a' followed by zero or more 'b')\n",
      "\n",
      "  'abbaabbba'\n",
      "  'a'\n",
      "  ...'a'\n",
      "  ....'a'\n",
      "  ........'a'\n",
      "\n",
      "pattern 'ab+?' ('a' followed by one or more 'b')\n",
      "\n",
      "  'abbaabbba'\n",
      "  'ab'\n",
      "  ....'ab'\n",
      "\n",
      "pattern 'ab??' ('a' followed by zero or one 'b')\n",
      "\n",
      "  'abbaabbba'\n",
      "  'a'\n",
      "  ...'a'\n",
      "  ....'a'\n",
      "  ........'a'\n",
      "\n",
      "pattern 'ab{3}?' ('a' followed by three 'b')\n",
      "\n",
      "  'abbaabbba'\n",
      "  ....'abbb'\n",
      "\n",
      "pattern 'ab{2,3}?' ('a' followed by two to three 'b')\n",
      "\n",
      "  'abbaabbba'\n",
      "  'abb'\n",
      "  ....'abb'\n",
      "\n"
     ]
    }
   ],
   "source": [
    "import re\n",
    "\n",
    "def test_patterns(text, patterns = []):\n",
    "    \"\"\"Given source text and a list of patterns, look for\n",
    "    matches for each pattern within the text and print\n",
    "    them to stdout.\n",
    "    \"\"\"\n",
    "    # Look for each pattern in the text and print the results\n",
    "    for pattern, desc in patterns:\n",
    "        print \"pattern %r (%s)\\n\" % (pattern, desc)\n",
    "        print \"  %r\" % text\n",
    "        for match in re.finditer(pattern, text):\n",
    "            s = match.start()\n",
    "            e = match.end()\n",
    "            substr = text[s:e]\n",
    "            n_backslashed = text[:s].count(\"\\\\\")\n",
    "            prefix = \".\" * (s + n_backslashed)\n",
    "            print \"  %s%r\" % (prefix, substr)\n",
    "        print\n",
    "    return\n",
    "\n",
    "if __name__ == \"__main__\":\n",
    "    test_patterns(\"abbaabbba\",\n",
    "                 [(\"ab*?\", \"'a' followed by zero or more 'b'\"),\n",
    "                  (\"ab+?\", \"'a' followed by one or more 'b'\"),\n",
    "                  (\"ab??\", \"'a' followed by zero or one 'b'\"),\n",
    "                  (\"ab{3}?\", \"'a' followed by three 'b'\"),\n",
    "                  (\"ab{2,3}?\", \"'a' followed by two to three 'b'\"),\n",
    "                 ])\n",
    "\n"
   ]
  },
  {
   "cell_type": "markdown",
   "metadata": {
    "ein.tags": "worksheet-0",
    "slideshow": {
     "slide_type": "-"
    }
   },
   "source": [
    "## 字符集\n",
    "字符集character set是一组字符, 包含可以与模式中相应位置匹配的所有字符."
   ]
  },
  {
   "cell_type": "code",
   "execution_count": 90,
   "metadata": {
    "autoscroll": false,
    "ein.tags": "worksheet-0",
    "slideshow": {
     "slide_type": "-"
    }
   },
   "outputs": [
    {
     "name": "stdout",
     "output_type": "stream",
     "text": [
      "pattern '[ab]' (either a or b)\n",
      "\n",
      "  'abbaabbba'\n",
      "  'a'\n",
      "  .'b'\n",
      "  ..'b'\n",
      "  ...'a'\n",
      "  ....'a'\n",
      "  .....'b'\n",
      "  ......'b'\n",
      "  .......'b'\n",
      "  ........'a'\n",
      "\n",
      "pattern 'a[ab]+' (a followed by 1 or more a or b)\n",
      "\n",
      "  'abbaabbba'\n",
      "  'abbaabbba'\n",
      "\n",
      "pattern 'a[ab]+?' (a followed by 1 or more a or b, not greedy)\n",
      "\n",
      "  'abbaabbba'\n",
      "  'ab'\n",
      "  ...'aa'\n",
      "\n"
     ]
    }
   ],
   "source": [
    "import re\n",
    "\n",
    "def test_patterns(text, patterns = []):\n",
    "    \"\"\"Given source text and a list of patterns, look for\n",
    "    matches for each pattern within the text and print\n",
    "    them to stdout.\n",
    "    \"\"\"\n",
    "    # Look for each pattern in the text and print the results\n",
    "    for pattern, desc in patterns:\n",
    "        print \"pattern %r (%s)\\n\" % (pattern, desc)\n",
    "        print \"  %r\" % text\n",
    "        for match in re.finditer(pattern, text):\n",
    "            s = match.start()\n",
    "            e = match.end()\n",
    "            substr = text[s:e]\n",
    "            n_backslashed = text[:s].count(\"\\\\\")\n",
    "            prefix = \".\" * (s + n_backslashed)\n",
    "            print \"  %s%r\" % (prefix, substr)\n",
    "        print\n",
    "    return\n",
    "\n",
    "if __name__ == \"__main__\":\n",
    "    test_patterns(\"abbaabbba\",\n",
    "                 [(\"[ab]\", \"either a or b\"),\n",
    "                  (\"a[ab]+\", \"a followed by 1 or more a or b\"),\n",
    "                  (\"a[ab]+?\", \"a followed by 1 or more a or b, not greedy\"),\n",
    "                 ])"
   ]
  },
  {
   "cell_type": "code",
   "execution_count": 89,
   "metadata": {
    "autoscroll": false,
    "ein.tags": "worksheet-0",
    "slideshow": {
     "slide_type": "-"
    }
   },
   "outputs": [
    {
     "name": "stdout",
     "output_type": "stream",
     "text": [
      "pattern '[^-. ]+' (sequences without -, ., or space)\n",
      "\n",
      "  'This is some text -- with punctuation.'\n",
      "  'This'\n",
      "  .....'is'\n",
      "  ........'some'\n",
      "  .............'text'\n",
      "  .....................'with'\n",
      "  ..........................'punctuation'\n",
      "\n"
     ]
    }
   ],
   "source": [
    "import re\n",
    "\n",
    "def test_patterns(text, patterns=[]):\n",
    "    for pattern, desc in patterns:\n",
    "        print \"pattern %r (%s)\\n\" % (pattern, desc)\n",
    "        print \"  %r\" % text\n",
    "        for match in re.finditer(pattern, text):\n",
    "            s = match.start()\n",
    "            e = match.end()\n",
    "            substr = text[s:e]\n",
    "            n_backslashed = text[:s].count(\"\\\\\")\n",
    "            prefix = \".\" * (s + n_backslashed)\n",
    "            print \"  %s%r\" % (prefix, substr)\n",
    "        print\n",
    "    return\n",
    "\n",
    "if __name__ == \"__main__\":\n",
    "    test_patterns(\"This is some text -- with punctuation.\",\n",
    "                 [(\"[^-. ]+\", \"sequences without -, ., or space\"),])\n"
   ]
  },
  {
   "cell_type": "code",
   "execution_count": 88,
   "metadata": {
    "autoscroll": false,
    "ein.tags": "worksheet-0",
    "slideshow": {
     "slide_type": "-"
    }
   },
   "outputs": [
    {
     "name": "stdout",
     "output_type": "stream",
     "text": [
      "pattern '[a-z]+' (sequences of lowercae letters.)\n",
      "\n",
      "  'This is some text -- with punctuation.'\n",
      "  .'his'\n",
      "  .....'is'\n",
      "  ........'some'\n",
      "  .............'text'\n",
      "  .....................'with'\n",
      "  ..........................'punctuation'\n",
      "\n",
      "pattern '[A-Z]+' (sequences of uppercase letters.)\n",
      "\n",
      "  'This is some text -- with punctuation.'\n",
      "  'T'\n",
      "\n",
      "pattern '[a-zA-Z]+' (sequences of lowercase or uppercase letters.)\n",
      "\n",
      "  'This is some text -- with punctuation.'\n",
      "  'This'\n",
      "  .....'is'\n",
      "  ........'some'\n",
      "  .............'text'\n",
      "  .....................'with'\n",
      "  ..........................'punctuation'\n",
      "\n",
      "pattern '[A-Z][a-z]+' (one uppercase followed by lowercase.)\n",
      "\n",
      "  'This is some text -- with punctuation.'\n",
      "  'This'\n",
      "\n"
     ]
    }
   ],
   "source": [
    "import re\n",
    "\n",
    "def test_patterns(text, patterns=[]):\n",
    "    for pattern, desc in patterns:\n",
    "        print \"pattern %r (%s)\\n\" % (pattern, desc)\n",
    "        print \"  %r\" % text\n",
    "        for match in re.finditer(pattern, text):\n",
    "            s = match.start()\n",
    "            e = match.end()\n",
    "            substr = text[s:e]\n",
    "            n_backslashed = text[:s].count(\"\\\\\")\n",
    "            prefix = \".\" * (s + n_backslashed)\n",
    "            print \"  %s%r\" % (prefix, substr)\n",
    "        print\n",
    "    return\n",
    "\n",
    "if __name__ == \"__main__\":\n",
    "    test_patterns(\"This is some text -- with punctuation.\",\n",
    "                 [(\"[a-z]+\", \"sequences of lowercae letters.\"),\n",
    "                  (\"[A-Z]+\", \"sequences of uppercase letters.\"),\n",
    "                  (\"[a-zA-Z]+\", \"sequences of lowercase or uppercase letters.\"),\n",
    "                  (\"[A-Z][a-z]+\", \"one uppercase followed by lowercase.\")])\n",
    "\n"
   ]
  },
  {
   "cell_type": "markdown",
   "metadata": {
    "ein.tags": "worksheet-0",
    "slideshow": {
     "slide_type": "-"
    }
   },
   "source": [
    "## 转义符号-反斜线\\\n",
    "在下面的例子中\"\\\\\\\\.\\\\+\"等价于r\"\\\\.\\+\", r\"\\\\\"匹配字符\"\\\", r\"\\+\"匹配字符\"+\"."
   ]
  },
  {
   "cell_type": "code",
   "execution_count": 85,
   "metadata": {
    "autoscroll": false,
    "ein.tags": "worksheet-0",
    "slideshow": {
     "slide_type": "-"
    }
   },
   "outputs": [
    {
     "name": "stdout",
     "output_type": "stream",
     "text": [
      "pattern '\\\\\\\\.\\\\+' (sequences of lowercae letters.)\n",
      "\n",
      "  '\\\\d+ \\\\D+ \\\\s+'\n",
      "  '\\\\d+'\n",
      "  .....'\\\\D+'\n",
      "  ..........'\\\\s+'\n",
      "\n",
      "pattern '\\\\\\\\.\\\\+' (sequences of lowercae letters.)\n",
      "\n",
      "  '\\\\d+ \\\\D+ \\\\s+'\n",
      "  '\\\\d+'\n",
      "  .....'\\\\D+'\n",
      "  ..........'\\\\s+'\n",
      "\n"
     ]
    }
   ],
   "source": [
    "import re\n",
    "\n",
    "def test_patterns(text, patterns=[]):\n",
    "    for pattern, desc in patterns:\n",
    "        print \"pattern %r (%s)\\n\" % (pattern, desc)\n",
    "        print \"  %r\" % text\n",
    "        for match in re.finditer(pattern, text):\n",
    "            s = match.start()\n",
    "            e = match.end()\n",
    "            substr = text[s:e]\n",
    "            n_backslashed = text[:s].count(\"\\\\\")\n",
    "            prefix = \".\" * (s + n_backslashed)\n",
    "            print \"  %s%r\" % (prefix, substr)\n",
    "        print\n",
    "    return\n",
    "\n",
    "if __name__ == \"__main__\":\n",
    "    test_patterns(\"\\d+ \\D+ \\s+\",\n",
    "                 [(\"\\\\\\\\.\\\\+\", \"sequences of lowercae letters.\"),\n",
    "                  (r\"\\\\.\\+\", \"sequences of lowercae letters.\"),])"
   ]
  },
  {
   "cell_type": "markdown",
   "metadata": {
    "ein.tags": "worksheet-0",
    "slideshow": {
     "slide_type": "-"
    }
   },
   "source": [
    "## 锚定\n",
    "| 锚定码   | 含义   |\n",
    "| ------------ | ------------ |\n",
    "| ^   | 字符串或行的开始   |\n",
    "| $   | 字符串或行的结束  |\n",
    "| \\A  | 字符串开始 |\n",
    "| \\Z  | 字符串结束 |\n",
    "| \\b  | 一个单词开头或结尾的空串 |\n",
    "| \\B  | 不在一个单词开头或结尾的空串 |\n"
   ]
  },
  {
   "cell_type": "code",
   "execution_count": 3,
   "metadata": {
    "autoscroll": false,
    "ein.tags": "worksheet-0",
    "slideshow": {
     "slide_type": "-"
    }
   },
   "outputs": [
    {
     "name": "stdout",
     "output_type": "stream",
     "text": [
      "pattern '^\\\\w+' (word at start of string)\n",
      "\n",
      "  'this is some text -- with punctuation.'\n",
      "  'this'\n",
      "\n",
      "pattern '\\\\A\\\\w+' (word at start of string)\n",
      "\n",
      "  'this is some text -- with punctuation.'\n",
      "  'this'\n",
      "\n",
      "pattern '\\\\W+$' (word near end of string, skip punctuation)\n",
      "\n",
      "  'this is some text -- with punctuation.'\n",
      "  .....................................'.'\n",
      "\n",
      "pattern '\\\\w+\\\\S*\\\\Z' (word near end of string, skip punctuation)\n",
      "\n",
      "  'this is some text -- with punctuation.'\n",
      "  ..........................'punctuation.'\n",
      "\n",
      "pattern '\\\\w*t\\\\w*' (word containing t)\n",
      "\n",
      "  'this is some text -- with punctuation.'\n",
      "  'this'\n",
      "  .............'text'\n",
      "  .....................'with'\n",
      "  ..........................'punctuation'\n",
      "\n",
      "pattern '\\\\bt\\\\w+' (t at start of word)\n",
      "\n",
      "  'this is some text -- with punctuation.'\n",
      "  'this'\n",
      "  .............'text'\n",
      "\n",
      "pattern '\\\\w+t\\\\b' (t at end of word)\n",
      "\n",
      "  'this is some text -- with punctuation.'\n",
      "  .............'text'\n",
      "\n",
      "pattern '\\\\Bt\\\\B' (t not at start or end of word)\n",
      "\n",
      "  'this is some text -- with punctuation.'\n",
      "  .......................'t'\n",
      "  ..............................'t'\n",
      "  .................................'t'\n",
      "\n"
     ]
    }
   ],
   "source": [
    "import re\n",
    "\n",
    "def test_patterns(text, patterns=[]):\n",
    "    for pattern, desc in patterns:\n",
    "        print \"pattern %r (%s)\\n\" % (pattern, desc)\n",
    "        print \"  %r\" % text\n",
    "        for match in re.finditer(pattern, text):\n",
    "            s = match.start()\n",
    "            e = match.end()\n",
    "            substr = text[s:e]\n",
    "            n_backslashed = text[:s].count(\"\\\\\")\n",
    "            prefix = \".\" * (s + n_backslashed)\n",
    "            print \"  %s%r\" % (prefix, substr)\n",
    "        print\n",
    "    return\n",
    "\n",
    "if __name__ == \"__main__\":\n",
    "    test_patterns(\"This is some text -- with punctuation.\",\n",
    "                 [(r\"^\\w+\", \"word at start of string\"),\n",
    "                  (r\"\\A\\w+\", \"word at start of string\"),\n",
    "                  (r\"\\w+\\S*$\", \"word near end of string, skip punctuation\"),\n",
    "                  (r\"\\w+\\S*\\Z\", \"word near end of string, skip punctuation\"),\n",
    "                  (r\"\\w*t\\w*\", \"word containing t\"),\n",
    "                  (r\"\\bt\\w+\", \"t at start of word\"),\n",
    "                  (r\"\\w+t\\b\", \"t at end of word\"),\n",
    "                  (r\"\\Bt\\B\", \"t not at start or end of word\")])"
   ]
  },
  {
   "cell_type": "markdown",
   "metadata": {
    "ein.tags": "worksheet-0",
    "slideshow": {
     "slide_type": "-"
    }
   },
   "source": [
    "这个例子中有个小细节, 就是在匹配一个字符串的最后一个单词时使用r\"\\w+\\S*\\Z\", 而不是r\"\\w+\\Z\", 后者会把整个字符串匹配, 若是r\"\\W+\\Z\", 则匹配了最后一个标点符号\".\"."
   ]
  },
  {
   "cell_type": "markdown",
   "metadata": {
    "ein.tags": "worksheet-0",
    "slideshow": {
     "slide_type": "-"
    }
   },
   "source": [
    "## ^与\\A, $与\\Z的区别 "
   ]
  },
  {
   "cell_type": "code",
   "execution_count": 96,
   "metadata": {
    "autoscroll": false,
    "ein.tags": "worksheet-0",
    "slideshow": {
     "slide_type": "-"
    }
   },
   "outputs": [
    {
     "name": "stdout",
     "output_type": "stream",
     "text": [
      "pattern '^abc' (sequences of lowercae letters.)\n",
      "\n",
      "  'zzz\\nabc'\n",
      "['abc']\n",
      "pattern '\\\\Aabc' (sequences of lowercae letters.)\n",
      "\n",
      "  'zzz\\nabc'\n",
      "[]\n",
      "pattern '\\\\w+$' (sequences of lowercae letters.)\n",
      "\n",
      "  'zzz\\nabc'\n",
      "['zzz', 'abc']\n",
      "pattern '\\\\w+\\\\Z' (sequences of lowercae letters.)\n",
      "\n",
      "  'zzz\\nabc'\n",
      "['abc']\n"
     ]
    }
   ],
   "source": [
    "import re\n",
    "\n",
    "def test_patterns(text, patterns=[]):\n",
    "    for pattern, desc in patterns:\n",
    "        print \"pattern %r (%s)\\n\" % (pattern, desc)\n",
    "        print \"  %r\" % text\n",
    "        regex = re.compile(pattern, re.MULTILINE)\n",
    "        print regex.findall(text)\n",
    "\n",
    "test_patterns(\"zzz\\nabc\",\n",
    "              [(r\"^abc\", \"sequences of lowercae letters.\"),\n",
    "               (r\"\\Aabc\", \"sequences of lowercae letters.\"),\n",
    "               (r\"\\w+$\", \"sequences of lowercae letters.\"),\n",
    "               (r\"\\w+\\Z\", \"sequences of lowercae letters.\")])"
   ]
  },
  {
   "cell_type": "markdown",
   "metadata": {
    "ein.tags": "worksheet-0",
    "slideshow": {
     "slide_type": "-"
    }
   },
   "source": [
    "同时还应该注意r\"\\n\"与\"\\n\"两者的区别\n",
    "r\"\\n\"代表包含两个字符\"\\\",\"n\"的一个字符串.\n",
    "\"\\n\"is a one-character string containing a newline.\n",
    "所以不注意他们之间的区别, 使用不慎就会导致意料不到的后果.\n",
    "下面的例子对上一个例子进行修改进行演示."
   ]
  },
  {
   "cell_type": "code",
   "execution_count": 97,
   "metadata": {
    "autoscroll": false,
    "ein.tags": "worksheet-0",
    "slideshow": {
     "slide_type": "-"
    }
   },
   "outputs": [
    {
     "name": "stdout",
     "output_type": "stream",
     "text": [
      "pattern '^abc' (sequences of lowercae letters.)\n",
      "\n",
      "  'zzz\\\\nabc'\n",
      "[]\n",
      "pattern '\\\\Aabc' (sequences of lowercae letters.)\n",
      "\n",
      "  'zzz\\\\nabc'\n",
      "[]\n",
      "pattern '\\\\w+$' (sequences of lowercae letters.)\n",
      "\n",
      "  'zzz\\\\nabc'\n",
      "['nabc']\n",
      "pattern '\\\\w+\\\\Z' (sequences of lowercae letters.)\n",
      "\n",
      "  'zzz\\\\nabc'\n",
      "['nabc']\n"
     ]
    }
   ],
   "source": [
    "import re\n",
    "\n",
    "def test_patterns(text, patterns=[]):\n",
    "    for pattern, desc in patterns:\n",
    "        print \"pattern %r (%s)\\n\" % (pattern, desc)\n",
    "        print \"  %r\" % text\n",
    "        regex = re.compile(pattern, re.MULTILINE)\n",
    "        print regex.findall(text)\n",
    "\n",
    "test_patterns(r\"zzz\\nabc\",\n",
    "              [(r\"^abc\", \"sequences of lowercae letters.\"),\n",
    "               (r\"\\Aabc\", \"sequences of lowercae letters.\"),\n",
    "               (r\"\\w+$\", \"sequences of lowercae letters.\"),\n",
    "               (r\"\\w+\\Z\", \"sequences of lowercae letters.\")])"
   ]
  },
  {
   "cell_type": "markdown",
   "metadata": {
    "ein.tags": "worksheet-0",
    "slideshow": {
     "slide_type": "-"
    }
   },
   "source": [
    "可以看出结果已经偏离了预期,和原来的结果又很大的不同."
   ]
  },
  {
   "cell_type": "code",
   "execution_count": 4,
   "metadata": {
    "autoscroll": false,
    "ein.tags": "worksheet-0",
    "slideshow": {
     "slide_type": "-"
    }
   },
   "outputs": [
    {
     "name": "stdout",
     "output_type": "stream",
     "text": [
      "Text    : This is some text -- with punctuation.\n",
      "pattern : is\n",
      "Mathch : None\n",
      "Search : <_sre.SRE_Match object at 0x10e321920>\n"
     ]
    }
   ],
   "source": [
    "import re\n",
    "\n",
    "text = \"This is some text -- with punctuation.\"\n",
    "pattern = \"is\"\n",
    "print \"Text    :\", text\n",
    "print \"pattern :\", pattern\n",
    "\n",
    "m = re.match(pattern, text)\n",
    "print \"Mathch :\", m\n",
    "s = re.search(pattern, text)\n",
    "print \"Search :\", s"
   ]
  },
  {
   "cell_type": "markdown",
   "metadata": {
    "ein.tags": "worksheet-0",
    "slideshow": {
     "slide_type": "-"
    }
   },
   "source": [
    "## 限制搜索\n",
    "search()方法还可以接受可选的start和end位置参数, 将搜索限制在输入的一个子集中."
   ]
  },
  {
   "cell_type": "code",
   "execution_count": 12,
   "metadata": {
    "autoscroll": false,
    "ein.tags": "worksheet-0",
    "slideshow": {
     "slide_type": "-"
    }
   },
   "outputs": [
    {
     "name": "stdout",
     "output_type": "stream",
     "text": [
      " 0 :  3, 'This'\n",
      " 5 :  6, 'is'\n"
     ]
    }
   ],
   "source": [
    "import re\n",
    "\n",
    "text = \"This is some text -- with punctuation.\"\n",
    "pattern = r\"\\b\\w*is\\w*\\b\"\n",
    "regex = re.compile(pattern)\n",
    "\n",
    "pos = 0\n",
    "while True:\n",
    "    match = regex.search(text, pos)\n",
    "    if not match:\n",
    "        break\n",
    "    s = match.start()\n",
    "    e = match.end()\n",
    "    print \"%2d : %2d, '%s'\" % (s, e-1, text[s:e])\n",
    "    pos = e"
   ]
  },
  {
   "cell_type": "markdown",
   "metadata": {
    "ein.tags": "worksheet-0",
    "slideshow": {
     "slide_type": "-"
    }
   },
   "source": [
    "## 用组解析匹配\n",
    "任何完整的正则表达式都可以转换为组, 并嵌套在一个更大的表达式中, 所有重复修饰符都可以应用到整个组作为一个整体, 要求重复整个组模式."
   ]
  },
  {
   "cell_type": "code",
   "execution_count": 13,
   "metadata": {
    "autoscroll": false,
    "ein.tags": "worksheet-0",
    "slideshow": {
     "slide_type": "-"
    }
   },
   "outputs": [
    {
     "name": "stdout",
     "output_type": "stream",
     "text": [
      "pattern 'a(ab)' (a followed by literal ab)\n",
      "\n",
      "  'abbaaabbbbaaaaa'\n",
      "  ....'aab'\n",
      "\n",
      "pattern 'a(a*b*)' (a followed by 0-n a and 0-n b)\n",
      "\n",
      "  'abbaaabbbbaaaaa'\n",
      "  'abb'\n",
      "  ...'aaabbbb'\n",
      "  ..........'aaaaa'\n",
      "\n",
      "pattern 'a(ab)*' (a followed by 0-n ab)\n",
      "\n",
      "  'abbaaabbbbaaaaa'\n",
      "  'a'\n",
      "  ...'a'\n",
      "  ....'aab'\n",
      "  ..........'a'\n",
      "  ...........'a'\n",
      "  ............'a'\n",
      "  .............'a'\n",
      "  ..............'a'\n",
      "\n",
      "pattern 'a(ab)+' (a followed by 1-n ab)\n",
      "\n",
      "  'abbaaabbbbaaaaa'\n",
      "  ....'aab'\n",
      "\n"
     ]
    }
   ],
   "source": [
    "import re\n",
    "\n",
    "def test_patterns(text, patterns=[]):\n",
    "    for pattern, desc in patterns:\n",
    "        print \"pattern %r (%s)\\n\" % (pattern, desc)\n",
    "        print \"  %r\" % text\n",
    "        for match in re.finditer(pattern, text):\n",
    "            s = match.start()\n",
    "            e = match.end()\n",
    "            substr = text[s:e]\n",
    "            n_backslashed = text[:s].count(\"\\\\\")\n",
    "            prefix = \".\" * (s + n_backslashed)\n",
    "            print \"  %s%r\" % (prefix, substr)\n",
    "        print\n",
    "    return\n",
    "\n",
    "if __name__ == \"__main__\":\n",
    "    test_patterns(\"abbaaabbbbaaaaa\",\n",
    "                 [(r\"a(ab)\", \"a followed by literal ab\"),\n",
    "                  (r\"a(a*b*)\", \"a followed by 0-n a and 0-n b\"),\n",
    "                  (r\"a(ab)*\", \"a followed by 0-n ab\"),\n",
    "                  (r\"a(ab)+\", \"a followed by 1-n ab\"),]) "
   ]
  }
 ],
 "metadata": {
  "kernelspec": {
   "display_name": "Python 2",
   "language": "python",
   "name": "python2"
  },
  "language_info": {
   "codemirror_mode": {
    "name": "ipython",
    "version": 2
   },
   "file_extension": ".py",
   "mimetype": "text/x-python",
   "name": "python",
   "nbconvert_exporter": "python",
   "pygments_lexer": "ipython2",
   "version": "2.7.10"
  },
  "name": "Python2-text.ipynb"
 },
 "nbformat": 4,
 "nbformat_minor": 2
}
